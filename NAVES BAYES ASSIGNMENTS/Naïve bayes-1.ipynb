{
 "cells": [
  {
   "cell_type": "markdown",
   "id": "0235a2a8-a525-408a-8657-9c71722201d1",
   "metadata": {},
   "source": [
    "# 9 april \n"
   ]
  },
  {
   "cell_type": "markdown",
   "id": "5a4ae916-3f2e-4310-a5c8-be38a19c9469",
   "metadata": {},
   "source": [
    "Q1. What is Bayes' theorem?\n",
    "\n",
    "In simple words, Bayes' Theorem is like a formula that helps us figure out the probability of something happening, taking into account what we already know and any new information we receive. It's particularly useful in situations where we have prior knowledge or beliefs about an event, and we want to adjust those beliefs based on new data.\n",
    "\n",
    "Bayes' Theorem is a fundamental concept in probability theory and statistics that helps us update our beliefs or predictions when new evidence or information becomes available"
   ]
  },
  {
   "cell_type": "code",
   "execution_count": null,
   "id": "6851f194-40dc-497f-8309-1dd886bf8518",
   "metadata": {},
   "outputs": [],
   "source": []
  },
  {
   "cell_type": "markdown",
   "id": "6bb1107d-b4d8-4d53-a003-21acb60a47b1",
   "metadata": {},
   "source": [
    "Q2. What is the formula for Bayes' theorem ?\n"
   ]
  },
  {
   "cell_type": "markdown",
   "id": "a07df66e-8ea9-4be8-9c3d-0de330ad1f5c",
   "metadata": {},
   "source": [
    "p(A/B) = ( p(A) * p(B/A) ) / p(B) \n",
    "\n",
    "P(A∣B) is the posterior probability, which is the probability of event A occurring given that event B has occurred.\n",
    "\n",
    "P(B∣A) is the likelihood, which is the probability of event B occurring given that event A has occurred.\n",
    "\n",
    "P(A) is the prior probability, which is the initial probability of event A occurring before considering any new evidence (prior to observing event B).\n",
    "\n",
    "P(B) is the marginal likelihood, which is the probability of event B occurring without considering any specific condition."
   ]
  },
  {
   "cell_type": "code",
   "execution_count": null,
   "id": "abc2f2eb-9b8f-406a-8fc1-cb482e316ab8",
   "metadata": {},
   "outputs": [],
   "source": []
  },
  {
   "cell_type": "markdown",
   "id": "68f406e0-4326-47b9-91f1-7e9c53fc9b2e",
   "metadata": {},
   "source": [
    "Q3. How is Bayes' theorem used in practice?\n",
    "\n",
    "Its primary use is to make predictions based on new evidence and prior knowledge. some practical applications of Bayes' Theorem can be seen in machine leaning algorithms to help in classifying new data based on the features . there are other uses such as :\n",
    "\n",
    "Medical Diagnosis: Bayes' Theorem is used in medical diagnosis to calculate the probability of a patient having a particular disease based on their symptoms and medical history. Doctors can update their diagnosis as new test results or symptoms are observed.\n",
    "\n",
    "Spam Email Filtering: Spam filters in email services use Bayesian classification to determine whether an incoming email is spam or not. They consider the probability of certain words or phrases appearing in spam emails and legitimate emails.\n",
    "\n",
    "Machine Learning: In machine learning, especially in Bayesian networks and probabilistic graphical models, Bayes' Theorem is used for reasoning under uncertainty. It's applied in natural language processing, image recognition, and recommendation systems."
   ]
  },
  {
   "cell_type": "code",
   "execution_count": null,
   "id": "28c420e3-68d3-49ac-ad6d-fe070eeedd95",
   "metadata": {},
   "outputs": [],
   "source": []
  },
  {
   "cell_type": "markdown",
   "id": "465c3c0d-a66a-43d5-ae13-a5a15a1ad1c3",
   "metadata": {},
   "source": [
    "Q4. What is the relationship between Bayes' theorem and conditional probability?\n",
    "\n",
    "Bayes' Theorem and conditional probability are closely related concepts in probability theory. Bayes' Theorem is a mathematical formula that helps us calculate conditional probabilities in a specific way. In fact, Bayes' Theorem is a way to express conditional probability in terms of other conditional probabilities. Here's how they are related:\n",
    "\n",
    "Conditional probability is the probability of an event occurring given that another event has already occurred. It is denoted as (P(A|B)), which reads as \"the probability of event A given event B.\"\n",
    "\n",
    "\n",
    "Bayes' Theorem provides a way to calculate conditional probabilities using the formula:\n",
    "\n",
    "P(A|B) = {P(B|A) * P(A)}{P(B)} \n",
    "\n",
    "\n",
    "Bayes' Theorem allows us to express P(A|B) in terms of (P(B|A)), (P(A)), and (P(B)). It helps us update our beliefs about the probability of an event (A) happening based on new evidence (B) and our prior knowledge (prior probability).\n",
    "\n"
   ]
  },
  {
   "cell_type": "code",
   "execution_count": null,
   "id": "805ac28d-dd17-4ec8-958f-e223e86c84f8",
   "metadata": {},
   "outputs": [],
   "source": []
  },
  {
   "cell_type": "markdown",
   "id": "938463c9-9d40-4a7a-bc99-40cf971ba5b5",
   "metadata": {},
   "source": [
    "Q5. How do you choose which type of Naive Bayes classifier to use for any given problem?\n",
    "\n",
    "Choosing the appropriate type of Naive Bayes classifier for a given problem depends on the nature of the data and the underlying assumptions about the data's distribution. There are three common types of Naive Bayes classifiers: Gaussian Naive Bayes, Multinomial Naive Bayes, and Bernoulli Naive Bayes\n",
    "\n",
    "Gaussian Naive Bayes:\n",
    "\n",
    "Data Type: Suitable for continuous, real-valued data that approximately follows a Gaussian (normal) distribution.\n",
    "Example Applications: It's commonly used for problems involving real-valued features like predicting house prices based on various continuous attributes.\n",
    "\n",
    "Multinomial Naive Bayes:\n",
    "\n",
    "Data Type: Suitable for discrete data, particularly when dealing with count or frequency-based data. It's commonly used for text classification problems, such as spam email detection or sentiment analysis.\n",
    "Example Applications: Text classification (e.g., categorizing documents into topics), predicting the frequency of specific words in a document.\n",
    "\n",
    "Bernoulli Naive Bayes:\n",
    "\n",
    "Data Type: Suitable for binary data (0/1 data) or data where each feature represents a binary attribute (presence/absence). It's commonly used in text classification problems when you want to model the presence or absence of specific words or features.\n",
    "Example Applications: Document classification based on the presence or absence of specific keywords or features."
   ]
  },
  {
   "cell_type": "code",
   "execution_count": null,
   "id": "3fe3fb65-4e4b-4081-9775-9e4efd40baca",
   "metadata": {},
   "outputs": [],
   "source": []
  },
  {
   "cell_type": "markdown",
   "id": "0ced4d0a-caca-40b0-89d9-a4e95aefc739",
   "metadata": {},
   "source": [
    "\n",
    "\n",
    "\n",
    "\n",
    "For Class A:\n",
    "- P(X1=3 | A) = 4/10 \n",
    "- P(X2=4 | A) = 3/10 \n",
    "\n",
    "For Class B:\n",
    "- (P(X1=3 | B) =1/7\n",
    "- (P(X2=4 | B) =3/7\n",
    "\n",
    "\n",
    "For Class A:\n",
    "(P(Data | A) = P(X1=3 | A) * P(X2=4 | A) = 4/10  \\{3 / 10} = \\frac{12}{100}\\)\n",
    "\n",
    "For Class B:\n",
    "(P(Data | B) = P(X1=3 | B) * P(X2=4 | B) = 1/7}*{3 / 7} = \\frac{3}{49}\\)\n",
    "\n",
    "Now, we compare the likelihoods:\n",
    "\n",
    "- (P(Data | A) = 12/00 = 0.12\n",
    "- (P(Data | B) = 0.0612\n",
    "\n",
    "The likelihood of the data given Class A is higher than the likelihood given Class B. Therefore, according to Naive Bayes, the new instance with features X1 = 3 and X2 = 4 would be predicted to belong to Class A."
   ]
  },
  {
   "cell_type": "code",
   "execution_count": null,
   "id": "b59fa29a-24a3-4552-a48a-d9676c753250",
   "metadata": {},
   "outputs": [],
   "source": []
  }
 ],
 "metadata": {
  "kernelspec": {
   "display_name": "Python 3 (ipykernel)",
   "language": "python",
   "name": "python3"
  },
  "language_info": {
   "codemirror_mode": {
    "name": "ipython",
    "version": 3
   },
   "file_extension": ".py",
   "mimetype": "text/x-python",
   "name": "python",
   "nbconvert_exporter": "python",
   "pygments_lexer": "ipython3",
   "version": "3.10.8"
  }
 },
 "nbformat": 4,
 "nbformat_minor": 5
}
